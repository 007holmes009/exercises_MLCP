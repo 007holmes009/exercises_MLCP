{
 "cells": [
  {
   "cell_type": "code",
   "execution_count": 7,
   "metadata": {},
   "outputs": [],
   "source": [
    "import geopandas as gpd\n",
    "import pandas as pd\n",
    "import pickle"
   ]
  },
  {
   "cell_type": "code",
   "execution_count": 2,
   "metadata": {},
   "outputs": [],
   "source": [
    "pkl_file = open('train_set_featureEng.pkl', 'rb')\n",
    "train_setFE = pickle.load(pkl_file)\n",
    "pkl_file.close()\n",
    "\n",
    "pkl_file = open('val_set_featureEng.pkl', 'rb')\n",
    "val_setFE = pickle.load(pkl_file)\n",
    "pkl_file.close()"
   ]
  },
  {
   "cell_type": "code",
   "execution_count": 3,
   "metadata": {},
   "outputs": [],
   "source": [
    "y_train = train_setFE['binary_best_t1']\n",
    "X_train = pd.DataFrame(train_setFE.drop(['gid','gwno','year','geometry', 'binary_best_t1', 'binary_best_t2', 'binary_best_t3', 'binary_best_t4', 'binary_best_t5'], axis =1))\n",
    "\n",
    "y_val = val_setFE['binary_best_t1']\n",
    "X_val = pd.DataFrame(val_setFE.drop(['gid','gwno','year','geometry', 'binary_best_t1', 'binary_best_t2', 'binary_best_t3', 'binary_best_t4', 'binary_best_t5'], axis =1))"
   ]
  },
  {
   "cell_type": "code",
   "execution_count": 4,
   "metadata": {},
   "outputs": [],
   "source": [
    "\n",
    "file_name = \"y_trainXGB.pkl\"\n",
    "output = open(file_name, 'wb')\n",
    "pickle.dump(y_train, output)\n",
    "output.close()\n",
    "\n",
    "file_name = \"X_trainXGB.pkl\"\n",
    "output = open(file_name, 'wb')\n",
    "pickle.dump(X_train, output)\n",
    "output.close()\n",
    "\n",
    "file_name = \"y_valXGB.pkl\"\n",
    "output = open(file_name, 'wb')\n",
    "pickle.dump(y_val, output)\n",
    "output.close()\n",
    "\n",
    "file_name = \"X_valXGB.pkl\"\n",
    "output = open(file_name, 'wb')\n",
    "pickle.dump(X_val, output)\n",
    "output.close()"
   ]
  }
 ],
 "metadata": {
  "kernelspec": {
   "display_name": "Python 3",
   "language": "python",
   "name": "python3"
  },
  "language_info": {
   "codemirror_mode": {
    "name": "ipython",
    "version": 3
   },
   "file_extension": ".py",
   "mimetype": "text/x-python",
   "name": "python",
   "nbconvert_exporter": "python",
   "pygments_lexer": "ipython3",
   "version": "3.8.6"
  }
 },
 "nbformat": 4,
 "nbformat_minor": 4
}
