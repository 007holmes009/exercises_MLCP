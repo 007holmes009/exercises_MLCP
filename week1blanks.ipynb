{
 "cells": [
  {
   "cell_type": "markdown",
   "metadata": {},
   "source": [
    "# A very short intro to the first exercise.\n",
    "\n",
    "The goal of this exercise is 'simply' to to merge our different data sources into one (geopandas) dataframe. naturally, we will also do a lot of 'checking' and 'assessing' of our data in the process, to make sure everything is as it should be. Today, we will merge the PRIO grid with the static PRIO variables and the UCDP data. Next Wednesday we will then merge this complied dataframe with the dynamic PRIO variabels. \n",
    "\n",
    "The hand-in **deadline will be monday the 14**. Here you should be ready to hand in both these exercise and the one you receive next wednesday. You will evaluate each others exercises through peergrade (two-way-blind).\n",
    "\n",
    "This exercise is counstructed as a collection of unfinished code where you have to fill in the blanks (often denoted ... ), insert correct variable/feature names or sometimes write a bit of code yourself. However, everything that you need (commands, funcitons, names etc.) to complete the exercise is present in this notebook. You should not have to go elsewhere to find it. That being said, you can learn a lot by following the links or do some searching on your own.\n",
    "\n",
    "As seen below I provide you a lot of code. This code is not pretty and it is not efficient. The aim instead is to make it transparent and easily understandable. I encurage you to play with the code, change it, make it better, put it into funtions, comment on it yourself and what not. In short, make it your own. You don't have to, but you will learn a lot from doing it. The most important thing, naturally, is that you make an effort to understand what is happening.\n",
    "\n",
    "If you find code which you do not understand, you should use the iPython help function (see VanderPlas) in Jupyter to asses the specific functions and methodes. As an exemple, I might have used the funcion 'len()', and not spend any time explaining it. Then, simply write the following:\n",
    "\n",
    "> len?\n",
    "\n",
    "and you should get some info about the function (try it out below).\n",
    "\n",
    "\n",
    "Other than code and explanations, there is also some questions below. These will be written in **bold**. Often there is no one-right-answer, instead the questions are opportunities for you to ponder about what we are doing and what we see in the data. Please write down your answer/thoughts directly under the question (prefereble in the same markdown cell). It will be evaluated by your peers and might inspire them.\n",
    "\n",
    "Importantly, if you have any problems (and you can't find the answer in the curriculum) I highly encourage you to google the problem (or Duckduckgo it, or Yahoo it or whatever). This is not me being lazy. You can, and should, also write questions in the *question* discord channel (and please answer some if you can). But finding solutions, by yourself, online is a big part of coding/data science/machine learning. Stack overflow, Stackexchange, Github, youtube, wikis and ducumentation pages are your allies and you need to get comfortable browsing such sources.\n",
    "\n",
    "Lastly, please read through the whole exercise before starting.\n",
    "\n",
    "Now, on to the actual exercise."
   ]
  },
  {
   "cell_type": "code",
   "execution_count": null,
   "metadata": {},
   "outputs": [],
   "source": []
  },
  {
   "cell_type": "markdown",
   "metadata": {},
   "source": [
    "# 1.0 Loading the data:\n",
    "\n",
    "First we import the pandas library as pd\n",
    "\n",
    ">import ... as ..."
   ]
  },
  {
   "cell_type": "code",
   "execution_count": null,
   "metadata": {},
   "outputs": [],
   "source": [
    "import ... as ..."
   ]
  },
  {
   "cell_type": "markdown",
   "metadata": {},
   "source": [
    "Now, if you have not downloaded the UCDP Georeferenced Event Dataset (GED) Global version 20.1 (.csv) go do it at https://ucdp.uu.se/downloads/index.html#ged_global along with the corrosponing code book.\n",
    "\n",
    "Having downloaded the data, you can load it into a dataframe using this pandas method\n",
    "> ucdp = pd.read_csv('file_name.zip')\n",
    "\n",
    "ucdp is simply the 'object' name we choose for our dataframe. It really could be anything but since it is the ucdp data we load, ucdp seem a prudent name.\n",
    "\n",
    "Note that I here assume that the data is saved in the same folder as this jupyter notebook. If this is not the case you will need the whole 'file_path' and not just the 'file_name'. Also note that you can load the zip downloaded directly this way. You could extract the csv first, but you don't actually have to. You can read much more on this subject on https://pandas.pydata.org/pandas-docs/stable/reference/api/pandas.read_csv.html."
   ]
  },
  {
   "cell_type": "code",
   "execution_count": null,
   "metadata": {},
   "outputs": [],
   "source": [
    "ucdp = pd.read_csv('...') # don't worry to much if you get a 'DtypeWarning' regarding 'Columns (47)'"
   ]
  },
  {
   "cell_type": "markdown",
   "metadata": {},
   "source": [
    "Now, we want to asses our new pandas dataframe UCDP. It is to large for us to look it it all, sp we will look at small parts of it or summert statitics. Try the following code to asses wheter your data: \n",
    "\n",
    "> ucdp.head(2)\n",
    "\n",
    "> ucdp.tail(3) \n",
    "\n",
    "> ucdp.sample(4)  \n",
    "\n",
    "> ucdp.info()  \n",
    "\n",
    "> ucdp.shape\n"
   ]
  },
  {
   "cell_type": "code",
   "execution_count": null,
   "metadata": {},
   "outputs": [],
   "source": []
  },
  {
   "cell_type": "code",
   "execution_count": null,
   "metadata": {},
   "outputs": [],
   "source": []
  },
  {
   "cell_type": "code",
   "execution_count": null,
   "metadata": {},
   "outputs": [],
   "source": []
  },
  {
   "cell_type": "code",
   "execution_count": null,
   "metadata": {},
   "outputs": [],
   "source": []
  },
  {
   "cell_type": "code",
   "execution_count": null,
   "metadata": {},
   "outputs": [],
   "source": []
  },
  {
   "cell_type": "code",
   "execution_count": null,
   "metadata": {},
   "outputs": [],
   "source": []
  },
  {
   "cell_type": "markdown",
   "metadata": {},
   "source": [
    "**What is the difference between the sample, head and tail methodes**   \n",
    "**what are the relative strengths and weaknesses of sample, head and tail methodes?**   \n",
    "**What does th numbers 2,3 and 4 do here?**  \n",
    "**Whar does ucdp.shape return?**"
   ]
  },
  {
   "cell_type": "markdown",
   "metadata": {},
   "source": [
    "# 1.1 Checking the features of UCDP\n",
    "\n",
    "First, check all the features included in the data set by using the columns method.\n",
    "\n",
    ">ucdp.columns "
   ]
  },
  {
   "cell_type": "code",
   "execution_count": null,
   "metadata": {},
   "outputs": [],
   "source": []
  },
  {
   "cell_type": "markdown",
   "metadata": {},
   "source": [
    "It is **ALWAYS NECESSARY** to go thoroughly through the codebook. The devil is often in the detail, and it is paramount to understand the substantial nature of you data. However, for now it is enough to skim through it and see that you have the features mentioned and get a shallow understanding of what the represent. Especially 'best', 'high', 'low', 'year' and 'priogrid_gid'.   \n",
    "\n",
    "Now, choose a roster of (easily understable) continuous features and use the 'describe' method to check if their values make sense given the discribtion in the codebook.\n",
    "\n",
    "> ucdp\\[ \\['feature1', 'feature2', ... , 'featureN' \\] \\].describe()\n",
    "\n",
    "Features of peticular interest could be 'year','best','high', 'low','latitude','longitude' and 'priogrid_gid', but feel free to play around."
   ]
  },
  {
   "cell_type": "code",
   "execution_count": null,
   "metadata": {},
   "outputs": [],
   "source": [
    "ucdp[['...','...','...', '...','...','...','...']].describe()"
   ]
  },
  {
   "cell_type": "markdown",
   "metadata": {},
   "source": [
    "**What is the first and last year in the dataset?**  \n",
    "**What is the difference between 'best', 'high' and 'low'?**  \n",
    "**Is there any advantage to using more than one of these ('best', 'low', 'high') measures?**  \n",
    "**What does the 'prio_gid' represent?**  "
   ]
  },
  {
   "cell_type": "markdown",
   "metadata": {},
   "source": [
    "# 1.3 plotting conflict fatalities and magnitude\n",
    "\n",
    "First import the matplotlib.pyplot library as plt\n",
    "> import ... as ..."
   ]
  },
  {
   "cell_type": "code",
   "execution_count": null,
   "metadata": {},
   "outputs": [],
   "source": [
    "import ... as ..."
   ]
  },
  {
   "cell_type": "markdown",
   "metadata": {},
   "source": [
    "Now we want to plot the three death counts, best, low and high. But we want to plot the general, world wide, conflict trend. Thus we aggregate the data at yearly level. that is we 'group by' 'year' and 'sum' all features. What we get is thus total death counts (best, high and low) for every year in the dataset. You can read more about the groupby method here https://pandas.pydata.org/pandas-docs/stable/reference/api/pandas.DataFrame.groupby.html\n",
    "\n",
    "groupby 'year'\n",
    "\n",
    "> ucdp_agg = df.groupby(by=\\['...'\\]).sum().reset_index()\n",
    "\n",
    "Again 'ucdp_agg' is just a name we choose, because it makes somewhat sense.   "
   ]
  },
  {
   "cell_type": "code",
   "execution_count": null,
   "metadata": {},
   "outputs": [],
   "source": [
    "ucdp_agg = ucdp.groupby(by=['...']).sum().reset_index() # the reset_index() method simply resets the index. See VanderPlas or don't worry about it"
   ]
  },
  {
   "cell_type": "markdown",
   "metadata": {},
   "source": [
    "Now we can plot three trend lines. One for 'best', one for 'high' and one for 'low'. Year (df_agg\\['year\\]) should be one the x-axis (the first parameter) in all plots, and the respective death counts (df_agg\\['best\\] etc.) should be on the y-axis (the second parameter).\n",
    "\n",
    "plot year on x axis, and 'best', 'high' and 'low' on y axis. See 'plt.plot?' for info.\n",
    "\n",
    "> plt.plot(..., ..., color = 'blue', label = 'best')  \n",
    "> plt.plot(..., ..., color = 'salmon', label = 'high')  \n",
    "> plt.plot(..., ..., color = 'cyan', label = 'low')\n",
    "\n",
    "As alway, feel free to change to code: make a loop, a function, chage the colours, the labels or what not.\n"
   ]
  },
  {
   "cell_type": "code",
   "execution_count": null,
   "metadata": {},
   "outputs": [],
   "source": [
    "plt.figure(figsize = [15,5]) # defines the size of the plots to 15 by 5\n",
    "\n",
    "plt.plot(ucdp_agg['...'], ucdp_agg['...'], color = 'blue', label = 'best')\n",
    "plt.plot(ucdp_agg['...'], ucdp_agg['...'], color = 'red', label = 'high')\n",
    "plt.plot(ucdp_agg['...'], ucdp_agg['...'], color = 'cyan', label = 'low')\n",
    "\n",
    "plt.legend() # puts the labels in the plot\n",
    "plt.show() # render the plot"
   ]
  },
  {
   "cell_type": "markdown",
   "metadata": {},
   "source": [
    "**What's up with 1994? Any thoughts?**"
   ]
  },
  {
   "cell_type": "markdown",
   "metadata": {},
   "source": [
    "Now, try to make the same plots but now with a log transform of the three death counts ('best', 'high' and 'low'). The x-axis will stil be years. Will use the numpy library for the log-tranformation, so import numpy as np.\n",
    "\n",
    "> import ... as ...\n",
    "\n",
    "> plt.plot(..., np.log(...), color = 'blue', label = 'log_best')  \n",
    "> plt.plot(..., np.log(...), color = 'red', label = 'log_high')  \n",
    "> plt.plot(..., np.log(...), color = 'cyan', label = 'log_low')  \n"
   ]
  },
  {
   "cell_type": "code",
   "execution_count": null,
   "metadata": {},
   "outputs": [],
   "source": [
    "import numpy as np"
   ]
  },
  {
   "cell_type": "code",
   "execution_count": null,
   "metadata": {},
   "outputs": [],
   "source": [
    "plt.figure(figsize = [15,5]) # defines the size of the plot\n",
    "\n",
    "plt.plot(ucdp_agg['...'], np.log(ucdp_agg['...']), color = 'blue', label = 'log_best')\n",
    "plt.plot(ucdp_agg['...'], np.log(ucdp_agg['...']), color = 'red', label = 'log_high')\n",
    "plt.plot(ucdp_agg['...'], np.log(ucdp_agg['...']), color = 'cyan', label = 'log_low')\n",
    "\n",
    "plt.legend() # puts the labels in the plot\n",
    "plt.show() # render the plot"
   ]
  },
  {
   "cell_type": "markdown",
   "metadata": {},
   "source": [
    "**How would you interpret the difference between original plot and the one with log-transformations?** \n",
    "**Can you come up with goods reasons why the log transformation might be a good idea?**"
   ]
  },
  {
   "cell_type": "markdown",
   "metadata": {},
   "source": [
    "We can also try to make a spatial map of conflict given one specific year. Let's use the original dataframe again (ucdp) and simply plot 'best'. The x and y will be respectively longitude and latitude. Using a scatter plot we can use 'best' to colour the scatter points. For transparency we create three objects to plot. 'col' will be the log-transformed 'best'. 'x' will be the 'longitude' and 'y' the 'latitude'\n",
    "\n",
    "> col = np.log(ucdp\\[ucdp\\['year'\\] == 1994\\]\\['...'\\] + 1)\n",
    "\n",
    "> x = ucdp\\[ucdp\\['year'\\] == 1994\\]\\['...'\\]  \n",
    "> y = ucdp\\[ucdp\\['year'\\] == 1994\\]\\['...'\\]\n"
   ]
  },
  {
   "cell_type": "code",
   "execution_count": null,
   "metadata": {},
   "outputs": [],
   "source": [
    "# create variables for simplicity\n",
    "col = np.log(ucdp[ucdp['year'] == 1994]['...'] + 1) # there might be and incident where the best guess is zero deaths. To avoid taking the log of zero we add one to all incidents before taking the log. \n",
    "x = ucdp[ucdp['year'] == 1994]['...']\n",
    "y = ucdp[ucdp['year'] == 1994]['...']"
   ]
  },
  {
   "cell_type": "markdown",
   "metadata": {},
   "source": [
    "Now, use the three created objects to plot the spatial conflict map. 'x' should be first, then 'y', then 'c=col'.\n",
    "\n",
    "> plt.figure(figsize = (15,10))\n",
    "> plt.scatter(..., ..., c = ..., alpha  = 0.2)\n",
    "> plt.show()\n",
    "\n",
    "'alpha  = 0.2' simply make the scatter plots somewhat transparent"
   ]
  },
  {
   "cell_type": "code",
   "execution_count": null,
   "metadata": {},
   "outputs": [],
   "source": [
    "plt.figure(figsize = (15,10))\n",
    "plt.scatter(..., ..., c = ..., alpha  = 0.2)\n",
    "plt.show()"
   ]
  },
  {
   "cell_type": "markdown",
   "metadata": {},
   "source": [
    "**So what is this? Do you recognize some shapes? Can you make sense of it?**"
   ]
  },
  {
   "cell_type": "markdown",
   "metadata": {},
   "source": [
    "# 1.4 getting the grid and the static data \n",
    "\n",
    "Naturally we would like a bit more context to our spatial map. So now we need the PRIO grid and data. For now we will only use the grid and thw static data but download the dynamic data as well. We will need it soon enough. If you have not downloaded the data yet, you can get both all static and dynamic data plus the codebook (tick of select all) from https://grid.prio.org/#/download. Note that you already know that first year of the UCDP data, so select that as the start year for the dynamic data. The last year should be the highest one possible.\n",
    "\n",
    "You can get the priogrid_shapefiles.zip from https://www.prio.org/Data/PRIO-GRID/\n",
    "\n",
    "And install the geopandas Library https://geopandas.org/install.html. look under 'Creating a new environment'. Now import geopandas as gpd\n",
    "\n",
    "> import ... as ..."
   ]
  },
  {
   "cell_type": "code",
   "execution_count": null,
   "metadata": {},
   "outputs": [],
   "source": [
    "import ... as ..."
   ]
  },
  {
   "cell_type": "markdown",
   "metadata": {},
   "source": [
    "Now load the prio grid. This is simply a spatial grid of small cells ($0.5\\times0.5$ decimal degrees) where we can insert data. If it does not make sense yet, it will in a bit - and please look at this https://journals.sagepub.com/doi/full/10.1177/0022343311431287 for more info. For info on how to read in shapefiles with geopandas see https://geopandas.org/io.html?highlight=read%20zip. It is pretty similar (but not completely) to loading csv's in Pandas. And again you can (really should) simply load in the whole zip file.\n",
    "\n",
    "> prio_grid = gpd.read_file('zip://file_path.zip')\n",
    "\n",
    "My experience is that it is better to submit the whole file_path here and not just the file_name.\n"
   ]
  },
  {
   "cell_type": "code",
   "execution_count": null,
   "metadata": {},
   "outputs": [],
   "source": [
    "prio_grid = gpd.read_file('zip://file_path.zip')"
   ]
  },
  {
   "cell_type": "markdown",
   "metadata": {},
   "source": [
    "Now, check the grid dataframe (using head, tail, sample, info, shape, columns and what not). Use whatever methods you think you need to be confident that the data is downloaded and loaded correctly."
   ]
  },
  {
   "cell_type": "code",
   "execution_count": null,
   "metadata": {},
   "outputs": [],
   "source": []
  },
  {
   "cell_type": "code",
   "execution_count": null,
   "metadata": {},
   "outputs": [],
   "source": []
  },
  {
   "cell_type": "code",
   "execution_count": null,
   "metadata": {},
   "outputs": [],
   "source": []
  },
  {
   "cell_type": "markdown",
   "metadata": {},
   "source": [
    "To Load the dynamic variables simply using pandas. We are not gonna use these yet, but it is nice to see everything is in order.\n",
    "\n",
    "> prio_dynamic = pd.read_csv('file_name.csv')\n",
    "\n",
    "Again, I'm assuming the csv file is located in the same directory as this notebook. Else, 'file_name' should be 'file_path'.\n"
   ]
  },
  {
   "cell_type": "code",
   "execution_count": null,
   "metadata": {},
   "outputs": [],
   "source": [
    "prio_dynamic = pd.read_csv('...')"
   ]
  },
  {
   "cell_type": "markdown",
   "metadata": {},
   "source": [
    "Check the dynamic data frame (using head, tail, sample or what not)"
   ]
  },
  {
   "cell_type": "code",
   "execution_count": null,
   "metadata": {},
   "outputs": [],
   "source": []
  },
  {
   "cell_type": "code",
   "execution_count": null,
   "metadata": {},
   "outputs": [],
   "source": []
  },
  {
   "cell_type": "code",
   "execution_count": null,
   "metadata": {},
   "outputs": [],
   "source": []
  },
  {
   "cell_type": "code",
   "execution_count": null,
   "metadata": {},
   "outputs": [],
   "source": []
  },
  {
   "cell_type": "markdown",
   "metadata": {},
   "source": [
    "As mentiond we are not goona use the dynamic data for anything here. We look at it again next Wednesday."
   ]
  },
  {
   "cell_type": "markdown",
   "metadata": {},
   "source": [
    "Now, load the static variables (wich we will use now).\n",
    "\n",
    "> prio_static = pd.read_csv('file_path.csv')\n",
    "\n",
    "Again, prio_static is just a name we choose. And also I'm assuming the csv file is located in the same directory as this notebook. Else, 'file_name' should be 'file_path'.\n"
   ]
  },
  {
   "cell_type": "code",
   "execution_count": null,
   "metadata": {},
   "outputs": [],
   "source": [
    "prio_static = pd.read_csv('...')"
   ]
  },
  {
   "cell_type": "markdown",
   "metadata": {},
   "source": [
    "Check the static data frame (using head, tail, sample or what not)"
   ]
  },
  {
   "cell_type": "code",
   "execution_count": null,
   "metadata": {},
   "outputs": [],
   "source": []
  },
  {
   "cell_type": "code",
   "execution_count": null,
   "metadata": {},
   "outputs": [],
   "source": []
  },
  {
   "cell_type": "code",
   "execution_count": null,
   "metadata": {},
   "outputs": [],
   "source": []
  },
  {
   "cell_type": "markdown",
   "metadata": {},
   "source": [
    "# 1.5 Merging PRIO grid and Static features\n",
    "\n",
    "Lets start by merging the grid and the static variables as this is the most simple operation. You can check out https://pandas.pydata.org/pandas-docs/stable/reference/api/pandas.DataFrame.merge.html to learn more about the operation. The most important things to note is the 'how' and the 'on' parameters. The 'how' can be 'inner', 'outer', 'left' or 'right'. The diagram below explains the difference"
   ]
  },
  {
   "attachments": {
    "3db3ab8f-4f22-4b48-9d4b-d100a4bcd5a8.png": {
     "image/png": "[encoded data removed]"
    }
   },
   "cell_type": "markdown",
   "metadata": {},
   "source": [
    "![image.png](attachment:3db3ab8f-4f22-4b48-9d4b-d100a4bcd5a8.png)"
   ]
  },
  {
   "cell_type": "markdown",
   "metadata": {},
   "source": [
    "So for an 'inner' join we only keep opservations present in both of the dataframes we merge. In 'left' merge we keep all observations present in the 'left' dataframe and so on. Now, the PRIO grid dataframe is actually just a big grid covering the 2D plane given by latitude and longitude (feel free to plot it, it simply looks like a big square. It does take some time to render). Conversly, PRIO's static and dynamic variables cover only actual land mass (excluding Antarctica and Greenland). \n",
    "\n",
    "In this course we will only focus on landmass (For computational efficinency. In reality, a lot of interesting stuff goes on out at sea.. E.g. see https://adventuresinmapping.com/2019/01/29/40-years-of-nautical-piracy/). \n",
    "\n",
    "Given that we focus on landmass we can can simply merge via 'inner'. Thus we will discard all cells/observations not included in the both the PRIO grid and static dataframe - i.e. all cells covering water, Antarctica and Greenland. \n",
    "\n",
    "We will merge on 'gid' (the grid ID), meaning that is what we want to match between the dataframes. Note, that the parameter given to 'on' must be in a 'list' \\[...\\] since you can give more variables to merge on (we will do this soon enough). \n",
    "\n",
    "Merge via 'inner' on 'gid'   \n",
    "\n",
    "> grid_static =  pd.merge(prio_grid, prio_static, how = '...', on = \\['...'\\])\n"
   ]
  },
  {
   "cell_type": "code",
   "execution_count": null,
   "metadata": {},
   "outputs": [],
   "source": [
    "grid_static =  pd.merge(prio_grid, prio_static, how = '...', on = ['...'])"
   ]
  },
  {
   "cell_type": "markdown",
   "metadata": {},
   "source": [
    "To asses our work, We can use the inbuilt geopandas plotting method (https://geopandas.org/mapping.html). We can make better, prettier, plots and gain more control over the plots using other tools, but the inbuilt method is very convenient for \"quick\" assessments.  \n",
    "\n",
    "Check the features in the new data frame using grid_static.columns and choose one ('mountains_mean' and 'forest_gc' might be most interesting for now) to plot. \n",
    "\n",
    "> grid_static.columns\n",
    "\n",
    "The feature you pick (e.g 'mountains_mean') should be set to the parameter 'column'.\n",
    "\n",
    "> grid_static.plot(column= '...', figsize=(15, 15))\n",
    "\n",
    "The 'figsize=(15, 15)' parameter simply makes the plot a bit larger than default. Note that it will take some time to render."
   ]
  },
  {
   "cell_type": "code",
   "execution_count": null,
   "metadata": {},
   "outputs": [],
   "source": []
  },
  {
   "cell_type": "code",
   "execution_count": null,
   "metadata": {},
   "outputs": [],
   "source": [
    "grid_static.plot(column='...', figsize=(15, 15))\n",
    "plt.show()"
   ]
  },
  {
   "cell_type": "code",
   "execution_count": null,
   "metadata": {},
   "outputs": [],
   "source": []
  },
  {
   "cell_type": "code",
   "execution_count": null,
   "metadata": {},
   "outputs": [],
   "source": []
  },
  {
   "cell_type": "code",
   "execution_count": null,
   "metadata": {},
   "outputs": [],
   "source": []
  },
  {
   "cell_type": "markdown",
   "metadata": {},
   "source": [
    "# 1.6 Merging with UCDP\n",
    "\n",
    "We now want to merge this data with the UCDP data. The problem is, that the 'grid_static' dataframe does not include any years. It is only spatial/cross sectional. As with everything here, there is a lot of different ways to merge the two dataframes despite this difference. We are gonna use a very transparent - if somewhat messy - hack.\n",
    "\n",
    "First, however, we will aggregate the UCDP data on a yearly/priogrid level. This will give us a unit of analysis: geographical grid cells with yearly death counts from 1989 to 2019. We could use monthly or weekly observations but to save computational power we settle for years (we could also use another spatial unit, but that is anohter discussion). Luckily for us every incident in the UCDP is also accompanied by a PRIO grid ID ('priogrid_gid') which denotes wich PRIO cell the incident took place in (we could merge it in other ways since we have a lot of spatial information, but this does simplify the operation a lot). And each incident is also accompanied by a year ('year) so aggregation in simple.\n",
    "\n",
    "Groupby 'priogrid_gid' and 'year'   \n",
    "\n",
    "> ucdp_gid = ucdp.groupby(by=['...','...']).sum().reset_index()\n",
    "\n",
    "Now, in the prio data the grid ID is not called 'priogrid_gid' but simply 'gid'. We want it to match, so lets change that using the 'rename' method https://pandas.pydata.org/pandas-docs/stable/reference/api/pandas.DataFrame.rename.html. The first entry (...) should be the original column name ('priogrid_gid') and the second the new column name ('gid').\n",
    "\n",
    "rename 'priogrid_gid' to 'gid'\n",
    "\n",
    "> ucdp_gid.rename(columns={'...':'...'}, inplace=True)\n",
    "\n",
    "The 'inplace = True' parameter simply tells python to change in dataframe directly with out creating a new dataframe (alternativly we could do: ucdp_gid = ucdp_gid.rename(columns={'...':'...'}))"
   ]
  },
  {
   "cell_type": "code",
   "execution_count": null,
   "metadata": {},
   "outputs": [],
   "source": [
    "ucdp_gid = ucdp.groupby(by=['...','...']).sum().reset_index()\n",
    "ucdp_gid.rename(columns={'...':'...'}, inplace=True)"
   ]
  },
  {
   "cell_type": "markdown",
   "metadata": {},
   "source": [
    "Now we create a list of all years in the UCDP, by extracting all unique values from the feature 'year'  \n",
    "\n",
    "years = sorted(ucdp_gid['...'].unique())\n",
    "\n",
    "We use 'sorted' to order the list and '.unique()' since we only want the individual years. Not a year for each grid cell."
   ]
  },
  {
   "cell_type": "code",
   "execution_count": null,
   "metadata": {},
   "outputs": [],
   "source": [
    "years = sorted(ucdp_gid['...'].unique())"
   ]
  },
  {
   "cell_type": "markdown",
   "metadata": {},
   "source": [
    "Check the 'years' object to see that the years it covers\n",
    "\n",
    "> years"
   ]
  },
  {
   "cell_type": "code",
   "execution_count": null,
   "metadata": {},
   "outputs": [],
   "source": []
  },
  {
   "cell_type": "markdown",
   "metadata": {},
   "source": [
    "Now to the hack. We are gonna give the dataframe 'grid_static' a feature for 'year'. We are gonna set all observations to be the first year of the UCDP (1989). We are now gonna attach a copy of the full 'grid_static' df to the original 'grid_static' df. But we set all years in the new copy to the next year. We are gonna keep doing this until we have a dataset covering all years in the UCDP (first 1990, then 1991 and so on). The info from 'grid_static' will just be doublicated across all years, but that is fine - the info is supposed to be static across years anyway. \n",
    "\n",
    "If this does not make sense, try to look at the code. you do not have to fill anything in here, but fell free to change it, but it into a function or what not. You can learn more about hte pandas concat function here https://pandas.pydata.org/pandas-docs/stable/reference/api/pandas.concat.html. \n"
   ]
  },
  {
   "cell_type": "code",
   "execution_count": null,
   "metadata": {},
   "outputs": [],
   "source": [
    "grid_static_yearly = grid_static.copy() # copy the dataframe to get our initial year.\n",
    "\n",
    "grid_static_yearly['year'] = years[0] # create a feature year. set it to the first year; 1989\n",
    "grid_static_one_year = grid_static_yearly.copy() # copy the dataframe, to have a new frame to concatinate\n",
    "\n",
    "for i in years[1:]: # the first year, 1990 is already present in grid_static_one_year\n",
    "    \n",
    "    df_temp = grid_static_one_year.copy() # create a tempoary df\n",
    "    df_temp['year'] = i # set the value of the temp df to the year i\n",
    "    \n",
    "    grid_static_yearly = pd.concat([grid_static_yearly,df_temp]) # concatenta the new frame to the original\n",
    "    \n",
    "grid_static_yearly.reset_index(inplace = True) # reset the index so it does not just repeat itself for eahc year"
   ]
  },
  {
   "cell_type": "markdown",
   "metadata": {},
   "source": [
    "We can do a couple of checks to see if everything is as we anticipated. You can change or add code, but there is no blanks to fill in here."
   ]
  },
  {
   "cell_type": "code",
   "execution_count": null,
   "metadata": {},
   "outputs": [],
   "source": [
    "grid_static_yearly.columns # see a new feature 'year' at the end"
   ]
  },
  {
   "cell_type": "code",
   "execution_count": null,
   "metadata": {},
   "outputs": [],
   "source": [
    "grid_static_yearly['year'].unique() # the years seem to be in order"
   ]
  },
  {
   "cell_type": "code",
   "execution_count": null,
   "metadata": {},
   "outputs": [],
   "source": [
    "grid_static.shape # this was the shape of the corss sectional dataframe. 64818 obs and 44 features"
   ]
  },
  {
   "cell_type": "code",
   "execution_count": null,
   "metadata": {},
   "outputs": [],
   "source": [
    "grid_static_yearly[grid_static_yearly['year']==1989].shape # looking at one random year of the new dataframe. Same number of obs but one more feature"
   ]
  },
  {
   "cell_type": "code",
   "execution_count": null,
   "metadata": {},
   "outputs": [],
   "source": [
    "grid_static_yearly.shape # looking at ths shape for the whole new dataframe. a lot more obs."
   ]
  },
  {
   "cell_type": "code",
   "execution_count": null,
   "metadata": {},
   "outputs": [],
   "source": [
    "len(years) * grid_static.shape[0] # checking that the new number of obs, fits what we expect."
   ]
  },
  {
   "cell_type": "markdown",
   "metadata": {},
   "source": [
    "Now plot some feature (e.g. 'forest_gc' or 'mountains_mean') for each year, to check that everything is in order. \n",
    "\n",
    ">for i in years:\n",
    ">>    print(f'year{i}')   \n",
    ">>    grid_static_yearly[grid_static_yearly['year'] == i].plot(column='...', figsize=(15, 15))  \n",
    ">>    plt.show()\n",
    "\n",
    "This will take a some time so go read one of the codebooks, Hegre et. al (https://journals.sagepub.com/doi/full/10.1177/0022343317691330) or VanderPlas. You do you."
   ]
  },
  {
   "cell_type": "code",
   "execution_count": null,
   "metadata": {},
   "outputs": [],
   "source": [
    "for i in years:\n",
    "    print(f'year{i}')\n",
    "    grid_static_yearly[grid_static_yearly['year'] == i].plot(column='...', figsize=(15, 15))\n",
    "    plt.show()"
   ]
  },
  {
   "cell_type": "markdown",
   "metadata": {},
   "source": [
    "Now, we ar ready to merge with the UCDP data. We will merge via 'left' which will be our 'grid_static_yearly' data frame. So if there is any conflict not on the main land mass defined by PRIO we simply discard them.\n",
    "\n",
    "we will merge on 'gid' and 'year'.\n",
    "\n",
    "grid_ucdp =  pd.merge(grid_static_yearly, ucdp_gid, how = '...', on = ['...', '...'])"
   ]
  },
  {
   "cell_type": "code",
   "execution_count": null,
   "metadata": {},
   "outputs": [],
   "source": [
    "grid_ucdp =  pd.merge(grid_static_yearly, ucdp_gid, how = '...', on = ['...', '...'])"
   ]
  },
  {
   "cell_type": "markdown",
   "metadata": {},
   "source": [
    "Now, all grid cells with no conflict have the values 'NaN' in best, high, low, deaths_civilians ect. You can check it with the 'sample' method."
   ]
  },
  {
   "cell_type": "code",
   "execution_count": null,
   "metadata": {},
   "outputs": [],
   "source": []
  },
  {
   "cell_type": "markdown",
   "metadata": {},
   "source": [
    "For all features where we feel confident that NaN entry should be zero (for now simply 'best',\n",
    "'high', 'low'), we just fill in the NaNs with zeroes using the 'fillna' method\n",
    "\n",
    "> grid_ucdp.fillna({'best' : 0, '...' : 0, '...' : 0}, inplace = True)"
   ]
  },
  {
   "cell_type": "code",
   "execution_count": null,
   "metadata": {},
   "outputs": [],
   "source": [
    "grid_ucdp.fillna({'...' : 0, '...' : 0, '...' : 0}, inplace = True)"
   ]
  },
  {
   "cell_type": "markdown",
   "metadata": {},
   "source": [
    "Feel free to check again with sample now."
   ]
  },
  {
   "cell_type": "markdown",
   "metadata": {},
   "source": [
    "We now also create a log-transformed version of the three death counts. \n",
    "\n",
    "grid_ucdp\\['log_best'\\] = np.log(grid_ucdp\\['...'\\] + 1)  \n",
    "grid_ucdp\\['log_low'\\] = np.log(grid_ucdp\\['...'\\] + 1)  \n",
    "grid_ucdp\\['log_high'\\] = np.log(grid_ucdp\\['...'\\] + 1)  \n",
    "\n",
    "We will do a lot of such transformations later (feature engineering). The reason we already do it for the death counts now, is so we can visualize the data and check that it looks right.\n"
   ]
  },
  {
   "cell_type": "code",
   "execution_count": null,
   "metadata": {},
   "outputs": [],
   "source": [
    "grid_ucdp['log_best'] = np.log(grid_ucdp['...'] + 1)\n",
    "grid_ucdp['log_low'] = np.log(grid_ucdp['...'] + 1)\n",
    "grid_ucdp['log_high'] = np.log(grid_ucdp['...'] + 1)"
   ]
  },
  {
   "cell_type": "markdown",
   "metadata": {},
   "source": [
    "**why do I want to take the log before plotting the data? Any guesses? (You can try plotting both 'best' and 'log_best' if you are curious).**"
   ]
  },
  {
   "cell_type": "markdown",
   "metadata": {},
   "source": [
    "Now, plot 'log_best' for every year in the data to se the conflict history from 1989 to 2019. This will take some time, so go read Hegre et. al if you haven't yet (https://journals.sagepub.com/doi/full/10.1177/0022343317691330) or the codebooks from PRIO of UCDP or VanderPlas.\n",
    "\n",
    ">for i in years:   \n",
    "> >  print(f'year{i}')   \n",
    "> >  grid_ucdp[grid_ucdp['year'] == i].plot(column='...', figsize=(15, 15), vmin = 0, vmax = grid_ucdp\\['log_best'\\].max())  \n",
    "> >  plt.show()  \n",
    "\n",
    "To check what the *vmin = 0, vmax = grid_ucdp\\['log_best'\\].max())* does, you can write:\n",
    "\n",
    "> grid_ucdp.plot?\n",
    "\n",
    "In short, without 'vmin' or 'vmax' (especially 'vmax') the plots would not be visually comparable across years. Bright yellow would indicate different levels of conflcit given different years (the max level that year). Now, with the parameter set, the levels of conflcits can easier be compared across years. Check the documentaion if it does not make sense yet. "
   ]
  },
  {
   "cell_type": "code",
   "execution_count": null,
   "metadata": {},
   "outputs": [],
   "source": [
    "for i in years:\n",
    "    print(f'year{i}')\n",
    "    grid_ucdp[grid_ucdp['year'] == i].plot(column='...', figsize=(15, 15), vmin = 0, vmax = grid_ucdp['log_best'].max() )\n",
    "    plt.show()"
   ]
  },
  {
   "cell_type": "markdown",
   "metadata": {},
   "source": [
    "**Does the data and years make sense?** \n",
    "**Do you recognize one or more conflicts given you background(domain knowledge)?** \n",
    "**Does 1994 make sense now (if it did not before)**"
   ]
  },
  {
   "attachments": {
    "26708ae8-176f-46a3-a030-4c313dc7e926.png": {
     "image/png": "[encoded data removed]"
    }
   },
   "cell_type": "markdown",
   "metadata": {},
   "source": [
    "We still need to merge our data with the dynamic varibabels, but we'll save that for next time. \n",
    "\n",
    "Before we go however, lets save our new (and for now final) dataframe 'grid_ucdp'. We could save it as a shapefile, but it is much easier to save it as a 'pickle'. see https://www.tutorialspoint.com/python-pickling for info on pickles. \n",
    "\n",
    "![image.png](attachment:26708ae8-176f-46a3-a030-4c313dc7e926.png)\n",
    "\n",
    "It's a python specific object which makes it easy to save and load various python objects. The object in this case being our dataframe.\n",
    "\n",
    "We start by importing pickle \n",
    "\n",
    "> import ..."
   ]
  },
  {
   "cell_type": "code",
   "execution_count": null,
   "metadata": {},
   "outputs": [],
   "source": [
    "import pickle"
   ]
  },
  {
   "cell_type": "markdown",
   "metadata": {},
   "source": [
    "And now we save grid_ucdp as a pickle. I have fille out all the code, so you can simply run it. Do however take the time to understand it. "
   ]
  },
  {
   "cell_type": "code",
   "execution_count": null,
   "metadata": {},
   "outputs": [],
   "source": [
    "file_name = \"grid_ucdp.pkl\"\n",
    "output = open(file_name, 'wb')\n",
    "pickle.dump(grid_ucdp, output)\n",
    "output.close()"
   ]
  },
  {
   "cell_type": "markdown",
   "metadata": {},
   "source": [
    "Now, just to be sure everything is in order before we close down, lets load our (just saved) pickle and see that it is as it should be."
   ]
  },
  {
   "cell_type": "code",
   "execution_count": null,
   "metadata": {},
   "outputs": [],
   "source": [
    "pkl_file = open('grid_ucdp.pkl', 'rb')\n",
    "pickle_test = pickle.load(pkl_file)\n",
    "pkl_file.close()"
   ]
  },
  {
   "cell_type": "markdown",
   "metadata": {},
   "source": [
    "You can use what ever check you like: type, head, sample, tail, columns, info, shape, or even plot some features given some specific years to asses the pickled data."
   ]
  },
  {
   "cell_type": "code",
   "execution_count": null,
   "metadata": {},
   "outputs": [],
   "source": [
    "type(pickle_test)"
   ]
  },
  {
   "cell_type": "code",
   "execution_count": null,
   "metadata": {},
   "outputs": [],
   "source": []
  },
  {
   "cell_type": "code",
   "execution_count": null,
   "metadata": {},
   "outputs": [],
   "source": []
  },
  {
   "cell_type": "code",
   "execution_count": null,
   "metadata": {},
   "outputs": [],
   "source": []
  },
  {
   "cell_type": "code",
   "execution_count": null,
   "metadata": {},
   "outputs": [],
   "source": []
  },
  {
   "cell_type": "code",
   "execution_count": null,
   "metadata": {},
   "outputs": [],
   "source": []
  },
  {
   "cell_type": "code",
   "execution_count": null,
   "metadata": {},
   "outputs": [],
   "source": []
  },
  {
   "cell_type": "code",
   "execution_count": null,
   "metadata": {},
   "outputs": [],
   "source": []
  },
  {
   "cell_type": "markdown",
   "metadata": {},
   "source": [
    "**Does everything appear to be in order?**  \n",
    "**Are you sure??**"
   ]
  },
  {
   "cell_type": "markdown",
   "metadata": {},
   "source": [
    "Hopefully it does. Tune in next time when we merge 'grid_ucdp' with tthe dynamic PRIO features!"
   ]
  }
 ],
 "metadata": {
  "kernelspec": {
   "display_name": "Python 3",
   "language": "python",
   "name": "python3"
  },
  "language_info": {
   "codemirror_mode": {
    "name": "ipython",
    "version": 3
   },
   "file_extension": ".py",
   "mimetype": "text/x-python",
   "name": "python",
   "nbconvert_exporter": "python",
   "pygments_lexer": "ipython3",
   "version": "3.8.2"
  }
 },
 "nbformat": 4,
 "nbformat_minor": 4
}
